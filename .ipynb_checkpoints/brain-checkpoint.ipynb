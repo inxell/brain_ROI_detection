{
 "cells": [
  {
   "cell_type": "code",
   "execution_count": 1,
   "metadata": {},
   "outputs": [],
   "source": [
    "import numpy as np\n",
    "import matplotlib.pyplot as plt\n",
    "%matplotlib inline"
   ]
  },
  {
   "cell_type": "code",
   "execution_count": 2,
   "metadata": {},
   "outputs": [],
   "source": [
    "import os\n",
    "import nibabel as nib"
   ]
  },
  {
   "cell_type": "code",
   "execution_count": 11,
   "metadata": {},
   "outputs": [],
   "source": [
    "class Clockwise:\n",
    "    def __init__(self, dx = -1, dy = 0):\n",
    "        self.directions = [[0, 1], [-1, 0], [0, -1], [1, 0]]\n",
    "        if dx == 1:\n",
    "            self.idx = 3\n",
    "        elif dx == -1:\n",
    "            self.idx = 1\n",
    "        elif dy == 1:\n",
    "            self.idx = 0\n",
    "        else:\n",
    "            self.idx = 2\n",
    "    \n",
    "    def next(self):\n",
    "        self.idx = (self.idx + 1)%4\n",
    "        return self\n",
    "    \n",
    "    def prev(self):\n",
    "        self.idx = (self.idx - 1)%4\n",
    "        return self\n",
    "    \n",
    "    def get_direction(self):\n",
    "        return self.directions[self.idx]\n"
   ]
  },
  {
   "cell_type": "code",
   "execution_count": 12,
   "metadata": {},
   "outputs": [],
   "source": [
    "def get_boundary(i, j, mat, left_boundary):\n",
    "    d = Clockwise()\n",
    "    x, y = [i], [j]\n",
    "    while (i, j) not in left_boundary:\n",
    "        d.prev()\n",
    "        for _ in range(4):\n",
    "            dx, dy = d.get_direction()\n",
    "            ii = i + dx\n",
    "            jj = j + dy\n",
    "            if mat[ii][jj] != 0:\n",
    "                if dy == 1:\n",
    "                    left_boundary.add((i, j))\n",
    "                d.next()\n",
    "            else:\n",
    "                i = ii\n",
    "                j = jj\n",
    "                x.append(i)\n",
    "                y.append(j)\n",
    "                break\n",
    "    return (x, y)"
   ]
  },
  {
   "cell_type": "code",
   "execution_count": 13,
   "metadata": {},
   "outputs": [],
   "source": [
    "def contours(mat):\n",
    "    # assuming that the first column of mat are all zero.\n",
    "    left_boundary = set()\n",
    "    res = list()\n",
    "    rows = np.where(np.any(mat, axis = 1))[0]\n",
    "    for i in rows:\n",
    "        for j in range(len(mat[i])):\n",
    "            if mat[i][j] == 1 and mat[i][j-1] == 0 and (i, j-1) not in left_boundary:\n",
    "                res.append(get_boundary(i, j-1, mat, left_boundary))\n",
    "    return res"
   ]
  },
  {
   "cell_type": "code",
   "execution_count": 3,
   "metadata": {},
   "outputs": [],
   "source": [
    "path = \"/Users/kejin/Dropbox/brain_data/nipy/R_LGN_Median_in_T1.nii.gz\"\n",
    "img = nib.load(path)"
   ]
  },
  {
   "cell_type": "code",
   "execution_count": 5,
   "metadata": {},
   "outputs": [],
   "source": [
    "img_data = img.get_data()"
   ]
  },
  {
   "cell_type": "code",
   "execution_count": 6,
   "metadata": {},
   "outputs": [
    {
     "data": {
      "text/plain": [
       "(160, 185, 200)"
      ]
     },
     "execution_count": 6,
     "metadata": {},
     "output_type": "execute_result"
    }
   ],
   "source": [
    "img_data.shape"
   ]
  },
  {
   "cell_type": "code",
   "execution_count": 7,
   "metadata": {},
   "outputs": [],
   "source": [
    "brain_path = \"/Users/kejin/Dropbox/brain_data/nipy/pdinT1_brain.nii.gz\"\n",
    "brain_img = nib.load(brain_path)"
   ]
  },
  {
   "cell_type": "code",
   "execution_count": 8,
   "metadata": {},
   "outputs": [],
   "source": [
    "brain_img_data = brain_img.get_data()"
   ]
  },
  {
   "cell_type": "code",
   "execution_count": 9,
   "metadata": {},
   "outputs": [
    {
     "data": {
      "text/plain": [
       "(160, 185, 200)"
      ]
     },
     "execution_count": 9,
     "metadata": {},
     "output_type": "execute_result"
    }
   ],
   "source": [
    "brain_img_data.shape"
   ]
  },
  {
   "cell_type": "code",
   "execution_count": 14,
   "metadata": {},
   "outputs": [],
   "source": [
    "def interval(mat, axis, margin = 10):\n",
    "    r = np.where(np.amax(mat, axis = axis))[0]\n",
    "    return max(0, r[0] - margin), r[-1] + margin"
   ]
  },
  {
   "cell_type": "code",
   "execution_count": 15,
   "metadata": {},
   "outputs": [
    {
     "data": {
      "text/plain": [
       "(array([ 95,  96,  97,  98,  99, 100, 101, 102]),)"
      ]
     },
     "execution_count": 15,
     "metadata": {},
     "output_type": "execute_result"
    }
   ],
   "source": [
    "M = [np.amax(p) for p in img_data]\n",
    "np.where(M)"
   ]
  },
  {
   "cell_type": "code",
   "execution_count": 21,
   "metadata": {
    "scrolled": false
   },
   "outputs": [
    {
     "data": {
      "image/png": "[encoded data removed]",
      "text/plain": [
       "<matplotlib.figure.Figure at 0x1158bce10>"
      ]
     },
     "metadata": {},
     "output_type": "display_data"
    }
   ],
   "source": [
    "# Only needs to change value of k at the first line.\n",
    "# the value of k should be one of the values returned in the cell above.\n",
    "k = 98\n",
    "mat = img_data[k]\n",
    "lines = contours(mat)\n",
    "fig = plt.figure()\n",
    "fig.set_size_inches(15, 15)\n",
    "ax = fig.add_subplot(1, 2, 1)\n",
    "rbeg, rend = interval(img_data[k], 1)\n",
    "cbeg, cend = interval(img_data[k], 0)\n",
    "ax.imshow(brain_img_data[k, rbeg:rend, cbeg:cend])\n",
    "bx = fig.add_subplot(1, 2, 2)\n",
    "bx.imshow(img_data[k, rbeg:rend, cbeg:cend])\n",
    "for x, y in lines:\n",
    "    ax.plot(np.array(y) - cbeg, np.array(x) - rbeg, 'r-')\n",
    "    bx.plot(np.array(y) - cbeg, np.array(x) - rbeg, 'r-')"
   ]
  },
  {
   "cell_type": "code",
   "execution_count": null,
   "metadata": {},
   "outputs": [],
   "source": []
  }
 ],
 "metadata": {
  "kernelspec": {
   "display_name": "Python 3",
   "language": "python",
   "name": "python3"
  },
  "language_info": {
   "codemirror_mode": {
    "name": "ipython",
    "version": 3
   },
   "file_extension": ".py",
   "mimetype": "text/x-python",
   "name": "python",
   "nbconvert_exporter": "python",
   "pygments_lexer": "ipython3",
   "version": "3.6.3"
  }
 },
 "nbformat": 4,
 "nbformat_minor": 1
}
